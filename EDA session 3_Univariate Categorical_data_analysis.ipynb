{
 "cells": [
  {
   "cell_type": "code",
   "execution_count": 1,
   "id": "a76cac28",
   "metadata": {},
   "outputs": [
    {
     "data": {
      "text/html": [
       "<div>\n",
       "<style scoped>\n",
       "    .dataframe tbody tr th:only-of-type {\n",
       "        vertical-align: middle;\n",
       "    }\n",
       "\n",
       "    .dataframe tbody tr th {\n",
       "        vertical-align: top;\n",
       "    }\n",
       "\n",
       "    .dataframe thead th {\n",
       "        text-align: right;\n",
       "    }\n",
       "</style>\n",
       "<table border=\"1\" class=\"dataframe\">\n",
       "  <thead>\n",
       "    <tr style=\"text-align: right;\">\n",
       "      <th></th>\n",
       "      <th>case_id</th>\n",
       "      <th>continent</th>\n",
       "      <th>education_of_employee</th>\n",
       "      <th>has_job_experience</th>\n",
       "      <th>requires_job_training</th>\n",
       "      <th>no_of_employees</th>\n",
       "      <th>yr_of_estab</th>\n",
       "      <th>region_of_employment</th>\n",
       "      <th>prevailing_wage</th>\n",
       "      <th>unit_of_wage</th>\n",
       "      <th>full_time_position</th>\n",
       "      <th>case_status</th>\n",
       "    </tr>\n",
       "  </thead>\n",
       "  <tbody>\n",
       "    <tr>\n",
       "      <th>0</th>\n",
       "      <td>EZYV01</td>\n",
       "      <td>Asia</td>\n",
       "      <td>High School</td>\n",
       "      <td>N</td>\n",
       "      <td>N</td>\n",
       "      <td>14513</td>\n",
       "      <td>2007</td>\n",
       "      <td>West</td>\n",
       "      <td>592.2029</td>\n",
       "      <td>Hour</td>\n",
       "      <td>Y</td>\n",
       "      <td>Denied</td>\n",
       "    </tr>\n",
       "    <tr>\n",
       "      <th>1</th>\n",
       "      <td>EZYV02</td>\n",
       "      <td>Asia</td>\n",
       "      <td>Master's</td>\n",
       "      <td>Y</td>\n",
       "      <td>N</td>\n",
       "      <td>2412</td>\n",
       "      <td>2002</td>\n",
       "      <td>Northeast</td>\n",
       "      <td>83425.6500</td>\n",
       "      <td>Year</td>\n",
       "      <td>Y</td>\n",
       "      <td>Certified</td>\n",
       "    </tr>\n",
       "    <tr>\n",
       "      <th>2</th>\n",
       "      <td>EZYV03</td>\n",
       "      <td>Asia</td>\n",
       "      <td>Bachelor's</td>\n",
       "      <td>N</td>\n",
       "      <td>Y</td>\n",
       "      <td>44444</td>\n",
       "      <td>2008</td>\n",
       "      <td>West</td>\n",
       "      <td>122996.8600</td>\n",
       "      <td>Year</td>\n",
       "      <td>Y</td>\n",
       "      <td>Denied</td>\n",
       "    </tr>\n",
       "    <tr>\n",
       "      <th>3</th>\n",
       "      <td>EZYV04</td>\n",
       "      <td>Asia</td>\n",
       "      <td>Bachelor's</td>\n",
       "      <td>N</td>\n",
       "      <td>N</td>\n",
       "      <td>98</td>\n",
       "      <td>1897</td>\n",
       "      <td>West</td>\n",
       "      <td>83434.0300</td>\n",
       "      <td>Year</td>\n",
       "      <td>Y</td>\n",
       "      <td>Denied</td>\n",
       "    </tr>\n",
       "    <tr>\n",
       "      <th>4</th>\n",
       "      <td>EZYV05</td>\n",
       "      <td>Africa</td>\n",
       "      <td>Master's</td>\n",
       "      <td>Y</td>\n",
       "      <td>N</td>\n",
       "      <td>1082</td>\n",
       "      <td>2005</td>\n",
       "      <td>South</td>\n",
       "      <td>149907.3900</td>\n",
       "      <td>Year</td>\n",
       "      <td>Y</td>\n",
       "      <td>Certified</td>\n",
       "    </tr>\n",
       "  </tbody>\n",
       "</table>\n",
       "</div>"
      ],
      "text/plain": [
       "  case_id continent education_of_employee has_job_experience  \\\n",
       "0  EZYV01      Asia           High School                  N   \n",
       "1  EZYV02      Asia              Master's                  Y   \n",
       "2  EZYV03      Asia            Bachelor's                  N   \n",
       "3  EZYV04      Asia            Bachelor's                  N   \n",
       "4  EZYV05    Africa              Master's                  Y   \n",
       "\n",
       "  requires_job_training  no_of_employees  yr_of_estab region_of_employment  \\\n",
       "0                     N            14513         2007                 West   \n",
       "1                     N             2412         2002            Northeast   \n",
       "2                     Y            44444         2008                 West   \n",
       "3                     N               98         1897                 West   \n",
       "4                     N             1082         2005                South   \n",
       "\n",
       "   prevailing_wage unit_of_wage full_time_position case_status  \n",
       "0         592.2029         Hour                  Y      Denied  \n",
       "1       83425.6500         Year                  Y   Certified  \n",
       "2      122996.8600         Year                  Y      Denied  \n",
       "3       83434.0300         Year                  Y      Denied  \n",
       "4      149907.3900         Year                  Y   Certified  "
      ]
     },
     "execution_count": 1,
     "metadata": {},
     "output_type": "execute_result"
    }
   ],
   "source": [
    "#Import the required packages and read the data\n",
    "\n",
    "import pandas as pd\n",
    "import numpy as np\n",
    "import matplotlib.pyplot as plt\n",
    "import seaborn as sns\n",
    "\n",
    "file_location=\"/Users/vishakabwasnik/Documents/NareshIT/Datafiles/Visadataset.csv\"\n",
    "visa_df=pd.read_csv(file_location)\n",
    "visa_df.head()"
   ]
  },
  {
   "cell_type": "code",
   "execution_count": 3,
   "id": "991c4322",
   "metadata": {},
   "outputs": [
    {
     "data": {
      "text/plain": [
       "case_id                   object\n",
       "continent                 object\n",
       "education_of_employee     object\n",
       "has_job_experience        object\n",
       "requires_job_training     object\n",
       "no_of_employees            int64\n",
       "yr_of_estab                int64\n",
       "region_of_employment      object\n",
       "prevailing_wage          float64\n",
       "unit_of_wage              object\n",
       "full_time_position        object\n",
       "case_status               object\n",
       "dtype: object"
      ]
     },
     "execution_count": 3,
     "metadata": {},
     "output_type": "execute_result"
    }
   ],
   "source": [
    "visa_df.dtypes"
   ]
  },
  {
   "cell_type": "code",
   "execution_count": 5,
   "id": "e1fa5550",
   "metadata": {},
   "outputs": [
    {
     "data": {
      "text/plain": [
       "Index(['case_id', 'continent', 'education_of_employee', 'has_job_experience',\n",
       "       'requires_job_training', 'no_of_employees', 'yr_of_estab',\n",
       "       'region_of_employment', 'prevailing_wage', 'unit_of_wage',\n",
       "       'full_time_position', 'case_status'],\n",
       "      dtype='object')"
      ]
     },
     "execution_count": 5,
     "metadata": {},
     "output_type": "execute_result"
    }
   ],
   "source": [
    "visa_df.columns #read the columns and then we can copy"
   ]
  },
  {
   "cell_type": "code",
   "execution_count": 4,
   "id": "8614f6b9",
   "metadata": {},
   "outputs": [
    {
     "data": {
      "text/plain": [
       "0          Asia\n",
       "1          Asia\n",
       "2          Asia\n",
       "3          Asia\n",
       "4        Africa\n",
       "          ...  \n",
       "25475      Asia\n",
       "25476      Asia\n",
       "25477      Asia\n",
       "25478      Asia\n",
       "25479      Asia\n",
       "Name: continent, Length: 25480, dtype: object"
      ]
     },
     "execution_count": 4,
     "metadata": {},
     "output_type": "execute_result"
    }
   ],
   "source": [
    "visa_df['continent'] #it is a series, a kind of array"
   ]
  },
  {
   "cell_type": "code",
   "execution_count": 6,
   "id": "d8fe84e5",
   "metadata": {},
   "outputs": [
    {
     "data": {
      "text/plain": [
       "pandas.core.series.Series"
      ]
     },
     "execution_count": 6,
     "metadata": {},
     "output_type": "execute_result"
    }
   ],
   "source": [
    "type(visa_df['continent'])"
   ]
  },
  {
   "cell_type": "code",
   "execution_count": 7,
   "id": "2a264009",
   "metadata": {},
   "outputs": [
    {
     "data": {
      "text/html": [
       "<div>\n",
       "<style scoped>\n",
       "    .dataframe tbody tr th:only-of-type {\n",
       "        vertical-align: middle;\n",
       "    }\n",
       "\n",
       "    .dataframe tbody tr th {\n",
       "        vertical-align: top;\n",
       "    }\n",
       "\n",
       "    .dataframe thead th {\n",
       "        text-align: right;\n",
       "    }\n",
       "</style>\n",
       "<table border=\"1\" class=\"dataframe\">\n",
       "  <thead>\n",
       "    <tr style=\"text-align: right;\">\n",
       "      <th></th>\n",
       "      <th>continent</th>\n",
       "    </tr>\n",
       "  </thead>\n",
       "  <tbody>\n",
       "    <tr>\n",
       "      <th>0</th>\n",
       "      <td>Asia</td>\n",
       "    </tr>\n",
       "    <tr>\n",
       "      <th>1</th>\n",
       "      <td>Asia</td>\n",
       "    </tr>\n",
       "    <tr>\n",
       "      <th>2</th>\n",
       "      <td>Asia</td>\n",
       "    </tr>\n",
       "    <tr>\n",
       "      <th>3</th>\n",
       "      <td>Asia</td>\n",
       "    </tr>\n",
       "    <tr>\n",
       "      <th>4</th>\n",
       "      <td>Africa</td>\n",
       "    </tr>\n",
       "    <tr>\n",
       "      <th>...</th>\n",
       "      <td>...</td>\n",
       "    </tr>\n",
       "    <tr>\n",
       "      <th>25475</th>\n",
       "      <td>Asia</td>\n",
       "    </tr>\n",
       "    <tr>\n",
       "      <th>25476</th>\n",
       "      <td>Asia</td>\n",
       "    </tr>\n",
       "    <tr>\n",
       "      <th>25477</th>\n",
       "      <td>Asia</td>\n",
       "    </tr>\n",
       "    <tr>\n",
       "      <th>25478</th>\n",
       "      <td>Asia</td>\n",
       "    </tr>\n",
       "    <tr>\n",
       "      <th>25479</th>\n",
       "      <td>Asia</td>\n",
       "    </tr>\n",
       "  </tbody>\n",
       "</table>\n",
       "<p>25480 rows × 1 columns</p>\n",
       "</div>"
      ],
      "text/plain": [
       "      continent\n",
       "0          Asia\n",
       "1          Asia\n",
       "2          Asia\n",
       "3          Asia\n",
       "4        Africa\n",
       "...         ...\n",
       "25475      Asia\n",
       "25476      Asia\n",
       "25477      Asia\n",
       "25478      Asia\n",
       "25479      Asia\n",
       "\n",
       "[25480 rows x 1 columns]"
      ]
     },
     "execution_count": 7,
     "metadata": {},
     "output_type": "execute_result"
    }
   ],
   "source": [
    "visa_df[['continent']] #list of column, extra column"
   ]
  },
  {
   "cell_type": "code",
   "execution_count": 8,
   "id": "81b8f115",
   "metadata": {},
   "outputs": [
    {
     "data": {
      "text/html": [
       "<div>\n",
       "<style scoped>\n",
       "    .dataframe tbody tr th:only-of-type {\n",
       "        vertical-align: middle;\n",
       "    }\n",
       "\n",
       "    .dataframe tbody tr th {\n",
       "        vertical-align: top;\n",
       "    }\n",
       "\n",
       "    .dataframe thead th {\n",
       "        text-align: right;\n",
       "    }\n",
       "</style>\n",
       "<table border=\"1\" class=\"dataframe\">\n",
       "  <thead>\n",
       "    <tr style=\"text-align: right;\">\n",
       "      <th></th>\n",
       "      <th>continent</th>\n",
       "    </tr>\n",
       "  </thead>\n",
       "  <tbody>\n",
       "    <tr>\n",
       "      <th>0</th>\n",
       "      <td>Asia</td>\n",
       "    </tr>\n",
       "    <tr>\n",
       "      <th>1</th>\n",
       "      <td>Asia</td>\n",
       "    </tr>\n",
       "    <tr>\n",
       "      <th>2</th>\n",
       "      <td>Asia</td>\n",
       "    </tr>\n",
       "    <tr>\n",
       "      <th>3</th>\n",
       "      <td>Asia</td>\n",
       "    </tr>\n",
       "    <tr>\n",
       "      <th>4</th>\n",
       "      <td>Africa</td>\n",
       "    </tr>\n",
       "    <tr>\n",
       "      <th>...</th>\n",
       "      <td>...</td>\n",
       "    </tr>\n",
       "    <tr>\n",
       "      <th>25475</th>\n",
       "      <td>Asia</td>\n",
       "    </tr>\n",
       "    <tr>\n",
       "      <th>25476</th>\n",
       "      <td>Asia</td>\n",
       "    </tr>\n",
       "    <tr>\n",
       "      <th>25477</th>\n",
       "      <td>Asia</td>\n",
       "    </tr>\n",
       "    <tr>\n",
       "      <th>25478</th>\n",
       "      <td>Asia</td>\n",
       "    </tr>\n",
       "    <tr>\n",
       "      <th>25479</th>\n",
       "      <td>Asia</td>\n",
       "    </tr>\n",
       "  </tbody>\n",
       "</table>\n",
       "<p>25480 rows × 1 columns</p>\n",
       "</div>"
      ],
      "text/plain": [
       "      continent\n",
       "0          Asia\n",
       "1          Asia\n",
       "2          Asia\n",
       "3          Asia\n",
       "4        Africa\n",
       "...         ...\n",
       "25475      Asia\n",
       "25476      Asia\n",
       "25477      Asia\n",
       "25478      Asia\n",
       "25479      Asia\n",
       "\n",
       "[25480 rows x 1 columns]"
      ]
     },
     "execution_count": 8,
     "metadata": {},
     "output_type": "execute_result"
    }
   ],
   "source": [
    "col=['continent']\n",
    "visa_df[col]"
   ]
  },
  {
   "cell_type": "code",
   "execution_count": null,
   "id": "ace775f8",
   "metadata": {},
   "outputs": [],
   "source": [
    "visa_df['continent'] #series\n",
    "visa_df[['continent']] #dataframe\n",
    "\n",
    "#vvvvimportant "
   ]
  },
  {
   "cell_type": "code",
   "execution_count": 9,
   "id": "c0e4bcc2",
   "metadata": {},
   "outputs": [
    {
     "data": {
      "text/plain": [
       "array(['Asia', 'Asia', 'Asia', 'Asia', 'Africa'], dtype=object)"
      ]
     },
     "execution_count": 9,
     "metadata": {},
     "output_type": "execute_result"
    }
   ],
   "source": [
    "visa_df['continent'].values[:5] #entire values are in 1 list"
   ]
  },
  {
   "cell_type": "code",
   "execution_count": 16,
   "id": "25dabf7e",
   "metadata": {},
   "outputs": [
    {
     "data": {
      "text/plain": [
       "array([['Asia'],\n",
       "       ['Asia'],\n",
       "       ['Asia'],\n",
       "       ...,\n",
       "       ['Asia'],\n",
       "       ['Asia'],\n",
       "       ['Asia']], dtype=object)"
      ]
     },
     "execution_count": 16,
     "metadata": {},
     "output_type": "execute_result"
    }
   ],
   "source": [
    "visa_df[['continent']].values #dont use this==creates list in list"
   ]
  },
  {
   "cell_type": "code",
   "execution_count": 12,
   "id": "f1bcbfc9",
   "metadata": {},
   "outputs": [
    {
     "data": {
      "text/plain": [
       "list"
      ]
     },
     "execution_count": 12,
     "metadata": {},
     "output_type": "execute_result"
    }
   ],
   "source": [
    "#output is showing in is numpy array\n",
    "\n",
    "l1=[1,2,3,4]\n",
    "l2=[10,20,30,40]\n",
    "type(l1)"
   ]
  },
  {
   "cell_type": "code",
   "execution_count": 14,
   "id": "a041dc2a",
   "metadata": {},
   "outputs": [
    {
     "data": {
      "text/plain": [
       "array([11, 22, 33, 44])"
      ]
     },
     "execution_count": 14,
     "metadata": {},
     "output_type": "execute_result"
    }
   ],
   "source": [
    "a1=np.array(l1)\n",
    "a2=np.array(l2)\n",
    "a1+a2"
   ]
  },
  {
   "cell_type": "code",
   "execution_count": 13,
   "id": "50225e2f",
   "metadata": {},
   "outputs": [
    {
     "data": {
      "text/plain": [
       "[1, 2, 3, 4, 10, 20, 30, 40]"
      ]
     },
     "execution_count": 13,
     "metadata": {},
     "output_type": "execute_result"
    }
   ],
   "source": [
    "l1+l2"
   ]
  },
  {
   "cell_type": "code",
   "execution_count": 15,
   "id": "a8b66813",
   "metadata": {},
   "outputs": [
    {
     "data": {
      "text/plain": [
       "['Asia',\n",
       " 'Asia',\n",
       " 'Asia',\n",
       " 'Asia',\n",
       " 'Africa',\n",
       " 'Asia',\n",
       " 'Asia',\n",
       " 'North America',\n",
       " 'Asia',\n",
       " 'Europe',\n",
       " 'Asia',\n",
       " 'Asia',\n",
       " 'Asia',\n",
       " 'Asia',\n",
       " 'Asia',\n",
       " 'Asia',\n",
       " 'Europe',\n",
       " 'Asia',\n",
       " 'Africa',\n",
       " 'Asia',\n",
       " 'Asia',\n",
       " 'North America',\n",
       " 'Asia',\n",
       " 'North America',\n",
       " 'Europe',\n",
       " 'North America',\n",
       " 'Asia',\n",
       " 'Asia',\n",
       " 'Asia',\n",
       " 'Asia',\n",
       " 'Asia',\n",
       " 'Asia',\n",
       " 'Asia',\n",
       " 'Asia',\n",
       " 'Asia',\n",
       " 'Asia',\n",
       " 'Europe',\n",
       " 'Europe',\n",
       " 'Asia',\n",
       " 'Asia',\n",
       " 'Asia',\n",
       " 'Asia',\n",
       " 'Europe',\n",
       " 'North America',\n",
       " 'Asia',\n",
       " 'Europe',\n",
       " 'Asia',\n",
       " 'Asia',\n",
       " 'Asia',\n",
       " 'Asia',\n",
       " 'Asia',\n",
       " 'Asia',\n",
       " 'Asia',\n",
       " 'Asia',\n",
       " 'Asia',\n",
       " 'Asia',\n",
       " 'Europe',\n",
       " 'Asia',\n",
       " 'Europe',\n",
       " 'Asia',\n",
       " 'Asia',\n",
       " 'Europe',\n",
       " 'Asia',\n",
       " 'Europe',\n",
       " 'Asia',\n",
       " 'Asia',\n",
       " 'North America',\n",
       " 'Europe',\n",
       " 'Asia',\n",
       " 'Asia',\n",
       " 'Asia',\n",
       " 'Asia',\n",
       " 'Europe',\n",
       " 'Asia',\n",
       " 'Africa',\n",
       " 'North America',\n",
       " 'Europe',\n",
       " 'Asia',\n",
       " 'North America',\n",
       " 'Asia',\n",
       " 'Asia',\n",
       " 'Asia',\n",
       " 'Asia',\n",
       " 'Asia',\n",
       " 'Asia',\n",
       " 'Asia',\n",
       " 'Asia',\n",
       " 'Asia',\n",
       " 'Asia',\n",
       " 'Asia',\n",
       " 'Asia',\n",
       " 'North America',\n",
       " 'Asia',\n",
       " 'Asia',\n",
       " 'North America',\n",
       " 'Asia',\n",
       " 'North America',\n",
       " 'North America',\n",
       " 'Asia',\n",
       " 'Asia',\n",
       " 'Asia',\n",
       " 'Asia',\n",
       " 'Asia',\n",
       " 'Asia',\n",
       " 'Asia',\n",
       " 'North America',\n",
       " 'Asia',\n",
       " 'Asia',\n",
       " 'Asia',\n",
       " 'Asia',\n",
       " 'North America',\n",
       " 'Asia',\n",
       " 'Asia',\n",
       " 'North America',\n",
       " 'Asia',\n",
       " 'Asia',\n",
       " 'Asia',\n",
       " 'North America',\n",
       " 'Asia',\n",
       " 'Asia',\n",
       " 'North America',\n",
       " 'South America',\n",
       " 'Asia',\n",
       " 'North America',\n",
       " 'Asia',\n",
       " 'North America',\n",
       " 'Asia',\n",
       " 'North America',\n",
       " 'Asia',\n",
       " 'Asia',\n",
       " 'South America',\n",
       " 'Asia',\n",
       " 'Asia',\n",
       " 'Asia',\n",
       " 'Asia',\n",
       " 'Asia',\n",
       " 'Asia',\n",
       " 'Asia',\n",
       " 'Asia',\n",
       " 'Asia',\n",
       " 'Asia',\n",
       " 'Asia',\n",
       " 'Asia',\n",
       " 'Asia',\n",
       " 'Asia',\n",
       " 'Europe',\n",
       " 'Europe',\n",
       " 'Asia',\n",
       " 'Asia',\n",
       " 'Asia',\n",
       " 'Asia',\n",
       " 'Europe',\n",
       " 'Asia',\n",
       " 'Asia',\n",
       " 'Europe',\n",
       " 'Asia',\n",
       " 'Asia',\n",
       " 'Asia',\n",
       " 'North America',\n",
       " 'Asia',\n",
       " 'Europe',\n",
       " 'Europe',\n",
       " 'North America',\n",
       " 'Asia',\n",
       " 'Asia',\n",
       " 'Asia',\n",
       " 'Asia',\n",
       " 'Asia',\n",
       " 'Asia',\n",
       " 'Asia',\n",
       " 'Europe',\n",
       " 'South America',\n",
       " 'Asia',\n",
       " 'Asia',\n",
       " 'Europe',\n",
       " 'Asia',\n",
       " 'North America',\n",
       " 'Asia',\n",
       " 'Asia',\n",
       " 'Asia',\n",
       " 'Europe',\n",
       " 'Europe',\n",
       " 'Europe',\n",
       " 'Asia',\n",
       " 'Asia',\n",
       " 'Asia',\n",
       " 'Asia',\n",
       " 'Europe',\n",
       " 'South America',\n",
       " 'Europe',\n",
       " 'Asia',\n",
       " 'Asia',\n",
       " 'North America',\n",
       " 'Asia',\n",
       " 'Africa',\n",
       " 'Asia',\n",
       " 'Europe',\n",
       " 'Europe',\n",
       " 'Asia',\n",
       " 'Europe',\n",
       " 'Asia',\n",
       " 'Asia',\n",
       " 'Asia',\n",
       " 'Asia',\n",
       " 'Asia',\n",
       " 'Asia',\n",
       " 'Europe',\n",
       " 'Asia',\n",
       " 'North America',\n",
       " 'Asia',\n",
       " 'Asia',\n",
       " 'Asia',\n",
       " 'Asia',\n",
       " 'North America',\n",
       " 'Asia',\n",
       " 'Europe',\n",
       " 'Asia',\n",
       " 'North America',\n",
       " 'Europe',\n",
       " 'Europe',\n",
       " 'Asia',\n",
       " 'North America',\n",
       " 'Europe',\n",
       " 'Europe',\n",
       " 'South America',\n",
       " 'Asia',\n",
       " 'North America',\n",
       " 'Asia',\n",
       " 'Asia',\n",
       " 'Asia',\n",
       " 'North America',\n",
       " 'Asia',\n",
       " 'Asia',\n",
       " 'Asia',\n",
       " 'Europe',\n",
       " 'North America',\n",
       " 'Asia',\n",
       " 'North America',\n",
       " 'Asia',\n",
       " 'Europe',\n",
       " 'Europe',\n",
       " 'Oceania',\n",
       " 'Africa',\n",
       " 'North America',\n",
       " 'Europe',\n",
       " 'Europe',\n",
       " 'Europe',\n",
       " 'Europe',\n",
       " 'North America',\n",
       " 'Asia',\n",
       " 'Asia',\n",
       " 'Europe',\n",
       " 'Asia',\n",
       " 'Europe',\n",
       " 'Asia',\n",
       " 'Europe',\n",
       " 'Asia',\n",
       " 'Asia',\n",
       " 'Asia',\n",
       " 'Asia',\n",
       " 'Asia',\n",
       " 'Asia',\n",
       " 'Asia',\n",
       " 'Asia',\n",
       " 'Asia',\n",
       " 'South America',\n",
       " 'Asia',\n",
       " 'North America',\n",
       " 'Asia',\n",
       " 'Asia',\n",
       " 'Asia',\n",
       " 'North America',\n",
       " 'Asia',\n",
       " 'Africa',\n",
       " 'Asia',\n",
       " 'Asia',\n",
       " 'Asia',\n",
       " 'Asia',\n",
       " 'Asia',\n",
       " 'Asia',\n",
       " 'Asia',\n",
       " 'Asia',\n",
       " 'Europe',\n",
       " 'North America',\n",
       " 'Asia',\n",
       " 'North America',\n",
       " 'Europe',\n",
       " 'Europe',\n",
       " 'Oceania',\n",
       " 'Asia',\n",
       " 'Asia',\n",
       " 'North America',\n",
       " 'Asia',\n",
       " 'Asia',\n",
       " 'Asia',\n",
       " 'Asia',\n",
       " 'Europe',\n",
       " 'Asia',\n",
       " 'Asia',\n",
       " 'Asia',\n",
       " 'Asia',\n",
       " 'Asia',\n",
       " 'North America',\n",
       " 'Asia',\n",
       " 'Asia',\n",
       " 'North America',\n",
       " 'Asia',\n",
       " 'North America',\n",
       " 'Asia',\n",
       " 'Asia',\n",
       " 'Asia',\n",
       " 'Europe',\n",
       " 'Asia',\n",
       " 'Asia',\n",
       " 'Asia',\n",
       " 'Asia',\n",
       " 'North America',\n",
       " 'South America',\n",
       " 'Asia',\n",
       " 'North America',\n",
       " 'South America',\n",
       " 'Asia',\n",
       " 'Asia',\n",
       " 'Asia',\n",
       " 'Europe',\n",
       " 'North America',\n",
       " 'Asia',\n",
       " 'Europe',\n",
       " 'Asia',\n",
       " 'Asia',\n",
       " 'Asia',\n",
       " 'Europe',\n",
       " 'South America',\n",
       " 'Europe',\n",
       " 'Asia',\n",
       " 'Asia',\n",
       " 'Europe',\n",
       " 'North America',\n",
       " 'Asia',\n",
       " 'Asia',\n",
       " 'Europe',\n",
       " 'Asia',\n",
       " 'North America',\n",
       " 'Asia',\n",
       " 'Asia',\n",
       " 'Asia',\n",
       " 'Asia',\n",
       " 'Asia',\n",
       " 'Asia',\n",
       " 'Asia',\n",
       " 'Asia',\n",
       " 'Asia',\n",
       " 'Asia',\n",
       " 'Asia',\n",
       " 'Asia',\n",
       " 'Asia',\n",
       " 'South America',\n",
       " 'North America',\n",
       " 'Asia',\n",
       " 'Asia',\n",
       " 'Asia',\n",
       " 'Asia',\n",
       " 'South America',\n",
       " 'Asia',\n",
       " 'North America',\n",
       " 'Asia',\n",
       " 'Asia',\n",
       " 'Europe',\n",
       " 'Asia',\n",
       " 'Asia',\n",
       " 'North America',\n",
       " 'Asia',\n",
       " 'Asia',\n",
       " 'Asia',\n",
       " 'Asia',\n",
       " 'North America',\n",
       " 'Asia',\n",
       " 'Asia',\n",
       " 'Asia',\n",
       " 'Asia',\n",
       " 'Asia',\n",
       " 'Asia',\n",
       " 'Asia',\n",
       " 'Asia',\n",
       " 'Asia',\n",
       " 'Europe',\n",
       " 'Asia',\n",
       " 'Africa',\n",
       " 'North America',\n",
       " 'North America',\n",
       " 'South America',\n",
       " 'Europe',\n",
       " 'Asia',\n",
       " 'Europe',\n",
       " 'Asia',\n",
       " 'North America',\n",
       " 'North America',\n",
       " 'Europe',\n",
       " 'Asia',\n",
       " 'Asia',\n",
       " 'Europe',\n",
       " 'Asia',\n",
       " 'Asia',\n",
       " 'Asia',\n",
       " 'Asia',\n",
       " 'North America',\n",
       " 'North America',\n",
       " 'Asia',\n",
       " 'Asia',\n",
       " 'Asia',\n",
       " 'Asia',\n",
       " 'Europe',\n",
       " 'Asia',\n",
       " 'North America',\n",
       " 'Europe',\n",
       " 'North America',\n",
       " 'Asia',\n",
       " 'Asia',\n",
       " 'Asia',\n",
       " 'Asia',\n",
       " 'Asia',\n",
       " 'South America',\n",
       " 'North America',\n",
       " 'Europe',\n",
       " 'Asia',\n",
       " 'North America',\n",
       " 'Asia',\n",
       " 'Asia',\n",
       " 'Asia',\n",
       " 'Asia',\n",
       " 'Asia',\n",
       " 'Asia',\n",
       " 'Asia',\n",
       " 'Asia',\n",
       " 'Asia',\n",
       " 'Asia',\n",
       " 'Asia',\n",
       " 'Asia',\n",
       " 'Asia',\n",
       " 'Asia',\n",
       " 'Asia',\n",
       " 'Asia',\n",
       " 'Asia',\n",
       " 'North America',\n",
       " 'Asia',\n",
       " 'Asia',\n",
       " 'South America',\n",
       " 'Africa',\n",
       " 'Asia',\n",
       " 'North America',\n",
       " 'Asia',\n",
       " 'Asia',\n",
       " 'Asia',\n",
       " 'Asia',\n",
       " 'North America',\n",
       " 'Asia',\n",
       " 'Europe',\n",
       " 'Asia',\n",
       " 'Asia',\n",
       " 'North America',\n",
       " 'Asia',\n",
       " 'North America',\n",
       " 'Asia',\n",
       " 'Asia',\n",
       " 'Asia',\n",
       " 'Asia',\n",
       " 'Asia',\n",
       " 'Asia',\n",
       " 'Europe',\n",
       " 'North America',\n",
       " 'Asia',\n",
       " 'Asia',\n",
       " 'Asia',\n",
       " 'North America',\n",
       " 'Asia',\n",
       " 'North America',\n",
       " 'North America',\n",
       " 'Europe',\n",
       " 'Asia',\n",
       " 'Asia',\n",
       " 'Africa',\n",
       " 'Africa',\n",
       " 'North America',\n",
       " 'North America',\n",
       " 'Asia',\n",
       " 'Asia',\n",
       " 'Asia',\n",
       " 'Asia',\n",
       " 'North America',\n",
       " 'North America',\n",
       " 'Asia',\n",
       " 'Asia',\n",
       " 'Asia',\n",
       " 'Asia',\n",
       " 'South America',\n",
       " 'Asia',\n",
       " 'North America',\n",
       " 'North America',\n",
       " 'Asia',\n",
       " 'Asia',\n",
       " 'Asia',\n",
       " 'Asia',\n",
       " 'North America',\n",
       " 'Europe',\n",
       " 'Europe',\n",
       " 'Asia',\n",
       " 'Europe',\n",
       " 'North America',\n",
       " 'Asia',\n",
       " 'Asia',\n",
       " 'Africa',\n",
       " 'Europe',\n",
       " 'Asia',\n",
       " 'Asia',\n",
       " 'Asia',\n",
       " 'Asia',\n",
       " 'Asia',\n",
       " 'Asia',\n",
       " 'Asia',\n",
       " 'Asia',\n",
       " 'Asia',\n",
       " 'Asia',\n",
       " 'Asia',\n",
       " 'Asia',\n",
       " 'Asia',\n",
       " 'North America',\n",
       " 'North America',\n",
       " 'Asia',\n",
       " 'Asia',\n",
       " 'North America',\n",
       " 'Asia',\n",
       " 'Europe',\n",
       " 'Asia',\n",
       " 'North America',\n",
       " 'Asia',\n",
       " 'Asia',\n",
       " 'Europe',\n",
       " 'Asia',\n",
       " 'Asia',\n",
       " 'Europe',\n",
       " 'Africa',\n",
       " 'Africa',\n",
       " 'Asia',\n",
       " 'Europe',\n",
       " 'Asia',\n",
       " 'Asia',\n",
       " 'Asia',\n",
       " 'Asia',\n",
       " 'South America',\n",
       " 'Asia',\n",
       " 'Asia',\n",
       " 'Asia',\n",
       " 'North America',\n",
       " 'North America',\n",
       " 'Asia',\n",
       " 'Asia',\n",
       " 'Asia',\n",
       " 'Asia',\n",
       " 'Asia',\n",
       " 'Asia',\n",
       " 'Asia',\n",
       " 'Asia',\n",
       " 'Europe',\n",
       " 'North America',\n",
       " 'Europe',\n",
       " 'Asia',\n",
       " 'Asia',\n",
       " 'Asia',\n",
       " 'Asia',\n",
       " 'Asia',\n",
       " 'Asia',\n",
       " 'Asia',\n",
       " 'Asia',\n",
       " 'Asia',\n",
       " 'Asia',\n",
       " 'Asia',\n",
       " 'Asia',\n",
       " 'North America',\n",
       " 'Asia',\n",
       " 'North America',\n",
       " 'Asia',\n",
       " 'North America',\n",
       " 'Asia',\n",
       " 'North America',\n",
       " 'Asia',\n",
       " 'Asia',\n",
       " 'Asia',\n",
       " 'Asia',\n",
       " 'Asia',\n",
       " 'North America',\n",
       " 'Asia',\n",
       " 'Europe',\n",
       " 'Asia',\n",
       " 'Asia',\n",
       " 'Asia',\n",
       " 'North America',\n",
       " 'Asia',\n",
       " 'Asia',\n",
       " 'South America',\n",
       " 'Asia',\n",
       " 'Asia',\n",
       " 'North America',\n",
       " 'South America',\n",
       " 'Asia',\n",
       " 'Asia',\n",
       " 'Asia',\n",
       " 'Asia',\n",
       " 'Asia',\n",
       " 'North America',\n",
       " 'Asia',\n",
       " 'Asia',\n",
       " 'Asia',\n",
       " 'Asia',\n",
       " 'Asia',\n",
       " 'Asia',\n",
       " 'Asia',\n",
       " 'Asia',\n",
       " 'Asia',\n",
       " 'Africa',\n",
       " 'Asia',\n",
       " 'Africa',\n",
       " 'Asia',\n",
       " 'Asia',\n",
       " 'Europe',\n",
       " 'Europe',\n",
       " 'Europe',\n",
       " 'Europe',\n",
       " 'Asia',\n",
       " 'Europe',\n",
       " 'Europe',\n",
       " 'Asia',\n",
       " 'Asia',\n",
       " 'Asia',\n",
       " 'Asia',\n",
       " 'Asia',\n",
       " 'Asia',\n",
       " 'Asia',\n",
       " 'Europe',\n",
       " 'Europe',\n",
       " 'Asia',\n",
       " 'South America',\n",
       " 'Asia',\n",
       " 'Asia',\n",
       " 'Asia',\n",
       " 'North America',\n",
       " 'Asia',\n",
       " 'Asia',\n",
       " 'Asia',\n",
       " 'Asia',\n",
       " 'Africa',\n",
       " 'Asia',\n",
       " 'Asia',\n",
       " 'North America',\n",
       " 'Asia',\n",
       " 'Europe',\n",
       " 'Asia',\n",
       " 'North America',\n",
       " 'North America',\n",
       " 'Asia',\n",
       " 'Asia',\n",
       " 'Africa',\n",
       " 'Asia',\n",
       " 'Asia',\n",
       " 'Asia',\n",
       " 'Europe',\n",
       " 'North America',\n",
       " 'Asia',\n",
       " 'Asia',\n",
       " 'Asia',\n",
       " 'Asia',\n",
       " 'Asia',\n",
       " 'Asia',\n",
       " 'Asia',\n",
       " 'Asia',\n",
       " 'Asia',\n",
       " 'Asia',\n",
       " 'Asia',\n",
       " 'Europe',\n",
       " 'Asia',\n",
       " 'Asia',\n",
       " 'Europe',\n",
       " 'Asia',\n",
       " 'Asia',\n",
       " 'Europe',\n",
       " 'Asia',\n",
       " 'Asia',\n",
       " 'Asia',\n",
       " 'North America',\n",
       " 'Asia',\n",
       " 'Asia',\n",
       " 'Asia',\n",
       " 'Asia',\n",
       " 'Asia',\n",
       " 'Asia',\n",
       " 'North America',\n",
       " 'Europe',\n",
       " 'North America',\n",
       " 'Africa',\n",
       " 'Asia',\n",
       " 'Asia',\n",
       " 'Asia',\n",
       " 'Asia',\n",
       " 'Asia',\n",
       " 'Asia',\n",
       " 'North America',\n",
       " 'Asia',\n",
       " 'Asia',\n",
       " 'North America',\n",
       " 'Oceania',\n",
       " 'Europe',\n",
       " 'Europe',\n",
       " 'Asia',\n",
       " 'Europe',\n",
       " 'Asia',\n",
       " 'Asia',\n",
       " 'Asia',\n",
       " 'South America',\n",
       " 'North America',\n",
       " 'Europe',\n",
       " 'Asia',\n",
       " 'North America',\n",
       " 'Asia',\n",
       " 'North America',\n",
       " 'North America',\n",
       " 'North America',\n",
       " 'North America',\n",
       " 'Asia',\n",
       " 'Asia',\n",
       " 'Asia',\n",
       " 'Africa',\n",
       " 'Asia',\n",
       " 'Asia',\n",
       " 'Asia',\n",
       " 'Asia',\n",
       " 'Asia',\n",
       " 'Africa',\n",
       " 'Asia',\n",
       " 'Asia',\n",
       " 'North America',\n",
       " 'Asia',\n",
       " 'South America',\n",
       " 'Asia',\n",
       " 'Europe',\n",
       " 'Europe',\n",
       " 'North America',\n",
       " 'Asia',\n",
       " 'Asia',\n",
       " 'Europe',\n",
       " 'South America',\n",
       " 'Asia',\n",
       " 'Asia',\n",
       " 'Asia',\n",
       " 'Asia',\n",
       " 'Asia',\n",
       " 'Asia',\n",
       " 'Asia',\n",
       " 'Asia',\n",
       " 'Asia',\n",
       " 'Europe',\n",
       " 'Europe',\n",
       " 'Europe',\n",
       " 'Asia',\n",
       " 'North America',\n",
       " 'Asia',\n",
       " 'Asia',\n",
       " 'Asia',\n",
       " 'Asia',\n",
       " 'Asia',\n",
       " 'Asia',\n",
       " 'Europe',\n",
       " 'Europe',\n",
       " 'North America',\n",
       " 'Asia',\n",
       " 'Europe',\n",
       " 'Asia',\n",
       " 'Asia',\n",
       " 'Asia',\n",
       " 'Asia',\n",
       " 'South America',\n",
       " 'Asia',\n",
       " 'Asia',\n",
       " 'Europe',\n",
       " 'Europe',\n",
       " 'Asia',\n",
       " 'Africa',\n",
       " 'Europe',\n",
       " 'Asia',\n",
       " 'North America',\n",
       " 'Asia',\n",
       " 'Asia',\n",
       " 'Asia',\n",
       " 'Asia',\n",
       " 'North America',\n",
       " 'Asia',\n",
       " 'Europe',\n",
       " 'Asia',\n",
       " 'Asia',\n",
       " 'North America',\n",
       " 'Asia',\n",
       " 'Asia',\n",
       " 'Europe',\n",
       " 'Asia',\n",
       " 'Asia',\n",
       " 'Europe',\n",
       " 'South America',\n",
       " 'Asia',\n",
       " 'Asia',\n",
       " 'Asia',\n",
       " 'Asia',\n",
       " 'Europe',\n",
       " 'Asia',\n",
       " 'Asia',\n",
       " 'Asia',\n",
       " 'Asia',\n",
       " 'North America',\n",
       " 'Europe',\n",
       " 'Asia',\n",
       " 'North America',\n",
       " 'Asia',\n",
       " 'Europe',\n",
       " 'South America',\n",
       " 'Asia',\n",
       " 'Europe',\n",
       " 'Asia',\n",
       " 'Europe',\n",
       " 'Asia',\n",
       " 'South America',\n",
       " 'Europe',\n",
       " 'Asia',\n",
       " 'North America',\n",
       " 'North America',\n",
       " 'Asia',\n",
       " 'South America',\n",
       " 'Asia',\n",
       " 'Asia',\n",
       " 'Asia',\n",
       " 'Asia',\n",
       " 'Europe',\n",
       " 'Africa',\n",
       " 'Asia',\n",
       " 'Asia',\n",
       " 'Asia',\n",
       " 'Europe',\n",
       " 'Asia',\n",
       " 'Asia',\n",
       " 'Asia',\n",
       " 'Asia',\n",
       " 'North America',\n",
       " 'Asia',\n",
       " 'Africa',\n",
       " 'Asia',\n",
       " 'Europe',\n",
       " 'Asia',\n",
       " 'Asia',\n",
       " 'North America',\n",
       " 'Asia',\n",
       " 'Europe',\n",
       " 'Asia',\n",
       " 'Asia',\n",
       " 'Asia',\n",
       " 'Europe',\n",
       " 'North America',\n",
       " 'North America',\n",
       " 'Asia',\n",
       " 'North America',\n",
       " 'Asia',\n",
       " 'Asia',\n",
       " 'Asia',\n",
       " 'Asia',\n",
       " 'North America',\n",
       " 'Asia',\n",
       " 'Asia',\n",
       " 'Asia',\n",
       " 'North America',\n",
       " 'Asia',\n",
       " 'Asia',\n",
       " 'South America',\n",
       " 'Asia',\n",
       " 'Asia',\n",
       " 'Asia',\n",
       " 'Asia',\n",
       " 'Asia',\n",
       " 'North America',\n",
       " 'Asia',\n",
       " 'Asia',\n",
       " 'South America',\n",
       " 'North America',\n",
       " 'Asia',\n",
       " 'Europe',\n",
       " 'Europe',\n",
       " 'Asia',\n",
       " 'Asia',\n",
       " 'North America',\n",
       " 'Asia',\n",
       " 'Europe',\n",
       " 'Africa',\n",
       " 'Asia',\n",
       " 'Asia',\n",
       " 'Africa',\n",
       " 'Asia',\n",
       " 'Asia',\n",
       " 'Asia',\n",
       " 'Asia',\n",
       " 'Asia',\n",
       " 'Asia',\n",
       " 'North America',\n",
       " 'Asia',\n",
       " 'Asia',\n",
       " 'Africa',\n",
       " 'Asia',\n",
       " 'Asia',\n",
       " 'Asia',\n",
       " 'Asia',\n",
       " 'Asia',\n",
       " 'Asia',\n",
       " 'Asia',\n",
       " 'South America',\n",
       " 'Europe',\n",
       " 'Asia',\n",
       " 'Asia',\n",
       " 'Asia',\n",
       " 'Asia',\n",
       " 'Europe',\n",
       " 'Asia',\n",
       " 'Asia',\n",
       " 'Asia',\n",
       " 'Asia',\n",
       " 'North America',\n",
       " 'North America',\n",
       " 'Asia',\n",
       " 'Asia',\n",
       " 'Asia',\n",
       " 'Asia',\n",
       " 'Asia',\n",
       " 'Asia',\n",
       " 'Asia',\n",
       " 'Asia',\n",
       " 'Asia',\n",
       " 'Asia',\n",
       " 'Asia',\n",
       " 'Asia',\n",
       " 'North America',\n",
       " 'North America',\n",
       " 'Europe',\n",
       " 'Asia',\n",
       " 'Europe',\n",
       " 'Asia',\n",
       " 'North America',\n",
       " 'Asia',\n",
       " 'Europe',\n",
       " 'Europe',\n",
       " 'Asia',\n",
       " 'Asia',\n",
       " 'Europe',\n",
       " 'Asia',\n",
       " 'Oceania',\n",
       " 'Asia',\n",
       " 'Asia',\n",
       " 'Asia',\n",
       " 'Asia',\n",
       " 'Oceania',\n",
       " 'Asia',\n",
       " 'Europe',\n",
       " 'Asia',\n",
       " 'North America',\n",
       " 'Asia',\n",
       " 'Europe',\n",
       " 'Europe',\n",
       " 'Africa',\n",
       " 'Asia',\n",
       " 'Asia',\n",
       " 'North America',\n",
       " 'Asia',\n",
       " 'Asia',\n",
       " 'Asia',\n",
       " 'Asia',\n",
       " 'Asia',\n",
       " 'Asia',\n",
       " 'Asia',\n",
       " 'Asia',\n",
       " 'Asia',\n",
       " 'Asia',\n",
       " 'Asia',\n",
       " 'Asia',\n",
       " 'Asia',\n",
       " 'Europe',\n",
       " 'Asia',\n",
       " 'Asia',\n",
       " 'North America',\n",
       " 'Europe',\n",
       " 'North America',\n",
       " 'Asia',\n",
       " 'Asia',\n",
       " 'South America',\n",
       " 'Asia',\n",
       " 'Asia',\n",
       " 'North America',\n",
       " 'Asia',\n",
       " 'Asia',\n",
       " 'Europe',\n",
       " ...]"
      ]
     },
     "execution_count": 15,
     "metadata": {},
     "output_type": "execute_result"
    }
   ],
   "source": [
    "list (visa_df['continent'].values) #converted into list"
   ]
  },
  {
   "cell_type": "code",
   "execution_count": null,
   "id": "6c3e77bb",
   "metadata": {},
   "outputs": [],
   "source": [
    "#numpy, list, tuple are mostly same just small differences"
   ]
  },
  {
   "cell_type": "code",
   "execution_count": 17,
   "id": "0512353e",
   "metadata": {},
   "outputs": [
    {
     "data": {
      "text/html": [
       "<div>\n",
       "<style scoped>\n",
       "    .dataframe tbody tr th:only-of-type {\n",
       "        vertical-align: middle;\n",
       "    }\n",
       "\n",
       "    .dataframe tbody tr th {\n",
       "        vertical-align: top;\n",
       "    }\n",
       "\n",
       "    .dataframe thead th {\n",
       "        text-align: right;\n",
       "    }\n",
       "</style>\n",
       "<table border=\"1\" class=\"dataframe\">\n",
       "  <thead>\n",
       "    <tr style=\"text-align: right;\">\n",
       "      <th></th>\n",
       "      <th>continent</th>\n",
       "      <th>education_of_employee</th>\n",
       "    </tr>\n",
       "  </thead>\n",
       "  <tbody>\n",
       "    <tr>\n",
       "      <th>0</th>\n",
       "      <td>Asia</td>\n",
       "      <td>High School</td>\n",
       "    </tr>\n",
       "    <tr>\n",
       "      <th>1</th>\n",
       "      <td>Asia</td>\n",
       "      <td>Master's</td>\n",
       "    </tr>\n",
       "    <tr>\n",
       "      <th>2</th>\n",
       "      <td>Asia</td>\n",
       "      <td>Bachelor's</td>\n",
       "    </tr>\n",
       "    <tr>\n",
       "      <th>3</th>\n",
       "      <td>Asia</td>\n",
       "      <td>Bachelor's</td>\n",
       "    </tr>\n",
       "    <tr>\n",
       "      <th>4</th>\n",
       "      <td>Africa</td>\n",
       "      <td>Master's</td>\n",
       "    </tr>\n",
       "  </tbody>\n",
       "</table>\n",
       "</div>"
      ],
      "text/plain": [
       "  continent education_of_employee\n",
       "0      Asia           High School\n",
       "1      Asia              Master's\n",
       "2      Asia            Bachelor's\n",
       "3      Asia            Bachelor's\n",
       "4    Africa              Master's"
      ]
     },
     "execution_count": 17,
     "metadata": {},
     "output_type": "execute_result"
    }
   ],
   "source": [
    "# read multiple columns\n",
    "# take a cols= add the columns name\n",
    "#use the [cols]\n",
    "cols=['continent', 'education_of_employee']\n",
    "visa_df[cols].head()"
   ]
  },
  {
   "cell_type": "markdown",
   "id": "adfee965",
   "metadata": {},
   "source": [
    "**unique**"
   ]
  },
  {
   "cell_type": "code",
   "execution_count": 19,
   "id": "f6bd0162",
   "metadata": {},
   "outputs": [
    {
     "data": {
      "text/plain": [
       "array(['Asia', 'Africa', 'North America', 'Europe', 'South America',\n",
       "       'Oceania'], dtype=object)"
      ]
     },
     "execution_count": 19,
     "metadata": {},
     "output_type": "execute_result"
    }
   ],
   "source": [
    "visa_df['continent'].unique()\n",
    "\n",
    "# there are almost 25k entries under continent column\n",
    "# but only some values are repeated as 25k"
   ]
  },
  {
   "cell_type": "markdown",
   "id": "0a332f4f",
   "metadata": {},
   "source": [
    "**nunique**"
   ]
  },
  {
   "cell_type": "code",
   "execution_count": 20,
   "id": "94585f36",
   "metadata": {},
   "outputs": [
    {
     "data": {
      "text/plain": [
       "6"
      ]
     },
     "execution_count": 20,
     "metadata": {},
     "output_type": "execute_result"
    }
   ],
   "source": [
    "visa_df['continent'].nunique()"
   ]
  },
  {
   "cell_type": "code",
   "execution_count": 22,
   "id": "620d55bd",
   "metadata": {},
   "outputs": [
    {
     "data": {
      "text/plain": [
       "6"
      ]
     },
     "execution_count": 22,
     "metadata": {},
     "output_type": "execute_result"
    }
   ],
   "source": [
    "len(visa_df['continent'].unique())"
   ]
  },
  {
   "cell_type": "code",
   "execution_count": null,
   "id": "031e43f9",
   "metadata": {},
   "outputs": [],
   "source": [
    "visa_df['continent'].unique()    #array of entries\n",
    "visa_df['continent'].nunique()   # 6\n",
    "len(visa_df['continent'].unique()) #6"
   ]
  },
  {
   "cell_type": "code",
   "execution_count": null,
   "id": "40d543b1",
   "metadata": {},
   "outputs": [],
   "source": [
    "#how many asia count is available out of 25k entries\n",
    "#how many africa count is available out of 25k entries"
   ]
  },
  {
   "cell_type": "markdown",
   "id": "c2269551",
   "metadata": {},
   "source": [
    "**value-counts**"
   ]
  },
  {
   "cell_type": "code",
   "execution_count": 23,
   "id": "ca7ad496",
   "metadata": {},
   "outputs": [
    {
     "data": {
      "text/plain": [
       "continent\n",
       "Asia             16861\n",
       "Europe            3732\n",
       "North America     3292\n",
       "South America      852\n",
       "Africa             551\n",
       "Oceania            192\n",
       "Name: count, dtype: int64"
      ]
     },
     "execution_count": 23,
     "metadata": {},
     "output_type": "execute_result"
    }
   ],
   "source": [
    "visa_df['continent'].value_counts()"
   ]
  },
  {
   "cell_type": "code",
   "execution_count": 24,
   "id": "d74050cf",
   "metadata": {},
   "outputs": [
    {
     "data": {
      "text/plain": [
       "continent\n",
       "Asia             0.661735\n",
       "Europe           0.146468\n",
       "North America    0.129199\n",
       "South America    0.033438\n",
       "Africa           0.021625\n",
       "Oceania          0.007535\n",
       "Name: proportion, dtype: float64"
      ]
     },
     "execution_count": 24,
     "metadata": {},
     "output_type": "execute_result"
    }
   ],
   "source": [
    "visa_df['continent'].value_counts(normalize=True)"
   ]
  },
  {
   "cell_type": "code",
   "execution_count": 25,
   "id": "32077a05",
   "metadata": {},
   "outputs": [
    {
     "data": {
      "text/plain": [
       "pandas.core.series.Series"
      ]
     },
     "execution_count": 25,
     "metadata": {},
     "output_type": "execute_result"
    }
   ],
   "source": [
    "type(visa_df['continent'].value_counts())"
   ]
  },
  {
   "cell_type": "code",
   "execution_count": null,
   "id": "4039cc7f",
   "metadata": {},
   "outputs": [],
   "source": [
    "#save in one variable\n",
    "# colnvert into dict\n",
    "#separate keys in one list and values in another list\n",
    "#create a data frame"
   ]
  },
  {
   "cell_type": "code",
   "execution_count": 26,
   "id": "184d1ca0",
   "metadata": {},
   "outputs": [
    {
     "data": {
      "text/plain": [
       "{'Asia': 0.661734693877551,\n",
       " 'Europe': 0.14646781789638932,\n",
       " 'North America': 0.1291993720565149,\n",
       " 'South America': 0.033437990580847725,\n",
       " 'Africa': 0.021624803767660912,\n",
       " 'Oceania': 0.0075353218210361065}"
      ]
     },
     "execution_count": 26,
     "metadata": {},
     "output_type": "execute_result"
    }
   ],
   "source": [
    "data=visa_df['continent'].value_counts(normalize=True)\n",
    "dict(data)"
   ]
  },
  {
   "cell_type": "code",
   "execution_count": 29,
   "id": "cf00a198",
   "metadata": {},
   "outputs": [
    {
     "data": {
      "text/plain": [
       "dict_keys(['Asia', 'Europe', 'North America', 'South America', 'Africa', 'Oceania'])"
      ]
     },
     "execution_count": 29,
     "metadata": {},
     "output_type": "execute_result"
    }
   ],
   "source": [
    "continent_values=dict((visa_df['continent'].value_counts()))\n",
    "continent_values.keys()"
   ]
  },
  {
   "cell_type": "code",
   "execution_count": 31,
   "id": "c4cb58de",
   "metadata": {},
   "outputs": [
    {
     "data": {
      "text/plain": [
       "['Asia', 'Europe', 'North America', 'South America', 'Africa', 'Oceania']"
      ]
     },
     "execution_count": 31,
     "metadata": {},
     "output_type": "execute_result"
    }
   ],
   "source": [
    "keys=list(continent_values.keys())\n",
    "keys"
   ]
  },
  {
   "cell_type": "code",
   "execution_count": 32,
   "id": "406601ca",
   "metadata": {},
   "outputs": [
    {
     "data": {
      "text/plain": [
       "[16861, 3732, 3292, 852, 551, 192]"
      ]
     },
     "execution_count": 32,
     "metadata": {},
     "output_type": "execute_result"
    }
   ],
   "source": [
    "values=list(continent_values.values())\n",
    "values"
   ]
  },
  {
   "cell_type": "code",
   "execution_count": 36,
   "id": "9f60d179",
   "metadata": {},
   "outputs": [
    {
     "data": {
      "text/html": [
       "<div>\n",
       "<style scoped>\n",
       "    .dataframe tbody tr th:only-of-type {\n",
       "        vertical-align: middle;\n",
       "    }\n",
       "\n",
       "    .dataframe tbody tr th {\n",
       "        vertical-align: top;\n",
       "    }\n",
       "\n",
       "    .dataframe thead th {\n",
       "        text-align: right;\n",
       "    }\n",
       "</style>\n",
       "<table border=\"1\" class=\"dataframe\">\n",
       "  <thead>\n",
       "    <tr style=\"text-align: right;\">\n",
       "      <th></th>\n",
       "      <th>Continent</th>\n",
       "      <th>Count</th>\n",
       "    </tr>\n",
       "  </thead>\n",
       "  <tbody>\n",
       "    <tr>\n",
       "      <th>0</th>\n",
       "      <td>Asia</td>\n",
       "      <td>16861</td>\n",
       "    </tr>\n",
       "    <tr>\n",
       "      <th>1</th>\n",
       "      <td>Europe</td>\n",
       "      <td>3732</td>\n",
       "    </tr>\n",
       "    <tr>\n",
       "      <th>2</th>\n",
       "      <td>North America</td>\n",
       "      <td>3292</td>\n",
       "    </tr>\n",
       "    <tr>\n",
       "      <th>3</th>\n",
       "      <td>South America</td>\n",
       "      <td>852</td>\n",
       "    </tr>\n",
       "    <tr>\n",
       "      <th>4</th>\n",
       "      <td>Africa</td>\n",
       "      <td>551</td>\n",
       "    </tr>\n",
       "    <tr>\n",
       "      <th>5</th>\n",
       "      <td>Oceania</td>\n",
       "      <td>192</td>\n",
       "    </tr>\n",
       "  </tbody>\n",
       "</table>\n",
       "</div>"
      ],
      "text/plain": [
       "       Continent  Count\n",
       "0           Asia  16861\n",
       "1         Europe   3732\n",
       "2  North America   3292\n",
       "3  South America    852\n",
       "4         Africa    551\n",
       "5        Oceania    192"
      ]
     },
     "execution_count": 36,
     "metadata": {},
     "output_type": "execute_result"
    }
   ],
   "source": [
    "continent_df=pd.DataFrame(zip(keys,values),columns=['Continent','Count'])\n",
    "continent_df"
   ]
  },
  {
   "cell_type": "code",
   "execution_count": 35,
   "id": "02430e32",
   "metadata": {},
   "outputs": [],
   "source": [
    "continent_df.to_csv('continent_df.csv',index=False)"
   ]
  },
  {
   "cell_type": "code",
   "execution_count": 37,
   "id": "4c030661",
   "metadata": {},
   "outputs": [
    {
     "ename": "ValueError",
     "evalue": "If using all scalar values, you must pass an index",
     "output_type": "error",
     "traceback": [
      "\u001b[0;31m---------------------------------------------------------------------------\u001b[0m",
      "\u001b[0;31mValueError\u001b[0m                                Traceback (most recent call last)",
      "Cell \u001b[0;32mIn[37], line 2\u001b[0m\n\u001b[1;32m      1\u001b[0m continent_values\u001b[38;5;241m=\u001b[39m\u001b[38;5;28mdict\u001b[39m((visa_df[\u001b[38;5;124m'\u001b[39m\u001b[38;5;124mcontinent\u001b[39m\u001b[38;5;124m'\u001b[39m]\u001b[38;5;241m.\u001b[39mvalue_counts()))\n\u001b[0;32m----> 2\u001b[0m pd\u001b[38;5;241m.\u001b[39mDataFrame(continent_values)\n",
      "File \u001b[0;32m~/anaconda3/lib/python3.11/site-packages/pandas/core/frame.py:709\u001b[0m, in \u001b[0;36mDataFrame.__init__\u001b[0;34m(self, data, index, columns, dtype, copy)\u001b[0m\n\u001b[1;32m    703\u001b[0m     mgr \u001b[38;5;241m=\u001b[39m \u001b[38;5;28mself\u001b[39m\u001b[38;5;241m.\u001b[39m_init_mgr(\n\u001b[1;32m    704\u001b[0m         data, axes\u001b[38;5;241m=\u001b[39m{\u001b[38;5;124m\"\u001b[39m\u001b[38;5;124mindex\u001b[39m\u001b[38;5;124m\"\u001b[39m: index, \u001b[38;5;124m\"\u001b[39m\u001b[38;5;124mcolumns\u001b[39m\u001b[38;5;124m\"\u001b[39m: columns}, dtype\u001b[38;5;241m=\u001b[39mdtype, copy\u001b[38;5;241m=\u001b[39mcopy\n\u001b[1;32m    705\u001b[0m     )\n\u001b[1;32m    707\u001b[0m \u001b[38;5;28;01melif\u001b[39;00m \u001b[38;5;28misinstance\u001b[39m(data, \u001b[38;5;28mdict\u001b[39m):\n\u001b[1;32m    708\u001b[0m     \u001b[38;5;66;03m# GH#38939 de facto copy defaults to False only in non-dict cases\u001b[39;00m\n\u001b[0;32m--> 709\u001b[0m     mgr \u001b[38;5;241m=\u001b[39m dict_to_mgr(data, index, columns, dtype\u001b[38;5;241m=\u001b[39mdtype, copy\u001b[38;5;241m=\u001b[39mcopy, typ\u001b[38;5;241m=\u001b[39mmanager)\n\u001b[1;32m    710\u001b[0m \u001b[38;5;28;01melif\u001b[39;00m \u001b[38;5;28misinstance\u001b[39m(data, ma\u001b[38;5;241m.\u001b[39mMaskedArray):\n\u001b[1;32m    711\u001b[0m     \u001b[38;5;28;01mfrom\u001b[39;00m \u001b[38;5;21;01mnumpy\u001b[39;00m\u001b[38;5;21;01m.\u001b[39;00m\u001b[38;5;21;01mma\u001b[39;00m \u001b[38;5;28;01mimport\u001b[39;00m mrecords\n",
      "File \u001b[0;32m~/anaconda3/lib/python3.11/site-packages/pandas/core/internals/construction.py:481\u001b[0m, in \u001b[0;36mdict_to_mgr\u001b[0;34m(data, index, columns, dtype, typ, copy)\u001b[0m\n\u001b[1;32m    477\u001b[0m     \u001b[38;5;28;01melse\u001b[39;00m:\n\u001b[1;32m    478\u001b[0m         \u001b[38;5;66;03m# dtype check to exclude e.g. range objects, scalars\u001b[39;00m\n\u001b[1;32m    479\u001b[0m         arrays \u001b[38;5;241m=\u001b[39m [x\u001b[38;5;241m.\u001b[39mcopy() \u001b[38;5;28;01mif\u001b[39;00m \u001b[38;5;28mhasattr\u001b[39m(x, \u001b[38;5;124m\"\u001b[39m\u001b[38;5;124mdtype\u001b[39m\u001b[38;5;124m\"\u001b[39m) \u001b[38;5;28;01melse\u001b[39;00m x \u001b[38;5;28;01mfor\u001b[39;00m x \u001b[38;5;129;01min\u001b[39;00m arrays]\n\u001b[0;32m--> 481\u001b[0m \u001b[38;5;28;01mreturn\u001b[39;00m arrays_to_mgr(arrays, columns, index, dtype\u001b[38;5;241m=\u001b[39mdtype, typ\u001b[38;5;241m=\u001b[39mtyp, consolidate\u001b[38;5;241m=\u001b[39mcopy)\n",
      "File \u001b[0;32m~/anaconda3/lib/python3.11/site-packages/pandas/core/internals/construction.py:115\u001b[0m, in \u001b[0;36marrays_to_mgr\u001b[0;34m(arrays, columns, index, dtype, verify_integrity, typ, consolidate)\u001b[0m\n\u001b[1;32m    112\u001b[0m \u001b[38;5;28;01mif\u001b[39;00m verify_integrity:\n\u001b[1;32m    113\u001b[0m     \u001b[38;5;66;03m# figure out the index, if necessary\u001b[39;00m\n\u001b[1;32m    114\u001b[0m     \u001b[38;5;28;01mif\u001b[39;00m index \u001b[38;5;129;01mis\u001b[39;00m \u001b[38;5;28;01mNone\u001b[39;00m:\n\u001b[0;32m--> 115\u001b[0m         index \u001b[38;5;241m=\u001b[39m _extract_index(arrays)\n\u001b[1;32m    116\u001b[0m     \u001b[38;5;28;01melse\u001b[39;00m:\n\u001b[1;32m    117\u001b[0m         index \u001b[38;5;241m=\u001b[39m ensure_index(index)\n",
      "File \u001b[0;32m~/anaconda3/lib/python3.11/site-packages/pandas/core/internals/construction.py:645\u001b[0m, in \u001b[0;36m_extract_index\u001b[0;34m(data)\u001b[0m\n\u001b[1;32m    642\u001b[0m         \u001b[38;5;28;01mraise\u001b[39;00m \u001b[38;5;167;01mValueError\u001b[39;00m(\u001b[38;5;124m\"\u001b[39m\u001b[38;5;124mPer-column arrays must each be 1-dimensional\u001b[39m\u001b[38;5;124m\"\u001b[39m)\n\u001b[1;32m    644\u001b[0m \u001b[38;5;28;01mif\u001b[39;00m \u001b[38;5;129;01mnot\u001b[39;00m indexes \u001b[38;5;129;01mand\u001b[39;00m \u001b[38;5;129;01mnot\u001b[39;00m raw_lengths:\n\u001b[0;32m--> 645\u001b[0m     \u001b[38;5;28;01mraise\u001b[39;00m \u001b[38;5;167;01mValueError\u001b[39;00m(\u001b[38;5;124m\"\u001b[39m\u001b[38;5;124mIf using all scalar values, you must pass an index\u001b[39m\u001b[38;5;124m\"\u001b[39m)\n\u001b[1;32m    647\u001b[0m \u001b[38;5;28;01mif\u001b[39;00m have_series:\n\u001b[1;32m    648\u001b[0m     index \u001b[38;5;241m=\u001b[39m union_indexes(indexes)\n",
      "\u001b[0;31mValueError\u001b[0m: If using all scalar values, you must pass an index"
     ]
    }
   ],
   "source": [
    "continent_values=dict((visa_df['continent'].value_counts()))\n",
    "pd.DataFrame(continent_values)"
   ]
  },
  {
   "cell_type": "code",
   "execution_count": 39,
   "id": "3e513fc4",
   "metadata": {},
   "outputs": [
    {
     "data": {
      "text/html": [
       "<div>\n",
       "<style scoped>\n",
       "    .dataframe tbody tr th:only-of-type {\n",
       "        vertical-align: middle;\n",
       "    }\n",
       "\n",
       "    .dataframe tbody tr th {\n",
       "        vertical-align: top;\n",
       "    }\n",
       "\n",
       "    .dataframe thead th {\n",
       "        text-align: right;\n",
       "    }\n",
       "</style>\n",
       "<table border=\"1\" class=\"dataframe\">\n",
       "  <thead>\n",
       "    <tr style=\"text-align: right;\">\n",
       "      <th></th>\n",
       "      <th>Name</th>\n",
       "      <th>Age</th>\n",
       "    </tr>\n",
       "  </thead>\n",
       "  <tbody>\n",
       "    <tr>\n",
       "      <th>0</th>\n",
       "      <td>Ramesh</td>\n",
       "      <td>20</td>\n",
       "    </tr>\n",
       "    <tr>\n",
       "      <th>1</th>\n",
       "      <td>Suresh</td>\n",
       "      <td>25</td>\n",
       "    </tr>\n",
       "    <tr>\n",
       "      <th>2</th>\n",
       "      <td>Sathish</td>\n",
       "      <td>30</td>\n",
       "    </tr>\n",
       "  </tbody>\n",
       "</table>\n",
       "</div>"
      ],
      "text/plain": [
       "      Name  Age\n",
       "0   Ramesh   20\n",
       "1   Suresh   25\n",
       "2  Sathish   30"
      ]
     },
     "execution_count": 39,
     "metadata": {},
     "output_type": "execute_result"
    }
   ],
   "source": [
    "d1={'Name':['Ramesh', \"Suresh\", 'Sathish'], #dict has keys:values\n",
    "   'Age':[20,25,30]}\n",
    "pd.DataFrame(d1)"
   ]
  },
  {
   "cell_type": "code",
   "execution_count": 44,
   "id": "f2500465",
   "metadata": {},
   "outputs": [
    {
     "data": {
      "text/html": [
       "<div>\n",
       "<style scoped>\n",
       "    .dataframe tbody tr th:only-of-type {\n",
       "        vertical-align: middle;\n",
       "    }\n",
       "\n",
       "    .dataframe tbody tr th {\n",
       "        vertical-align: top;\n",
       "    }\n",
       "\n",
       "    .dataframe thead th {\n",
       "        text-align: right;\n",
       "    }\n",
       "</style>\n",
       "<table border=\"1\" class=\"dataframe\">\n",
       "  <thead>\n",
       "    <tr style=\"text-align: right;\">\n",
       "      <th></th>\n",
       "      <th>Asia</th>\n",
       "      <th>Europe</th>\n",
       "      <th>North America</th>\n",
       "      <th>South America</th>\n",
       "      <th>Africa</th>\n",
       "      <th>Oceania</th>\n",
       "    </tr>\n",
       "  </thead>\n",
       "  <tbody>\n",
       "    <tr>\n",
       "      <th>1</th>\n",
       "      <td>16861</td>\n",
       "      <td>3732</td>\n",
       "      <td>3292</td>\n",
       "      <td>852</td>\n",
       "      <td>551</td>\n",
       "      <td>192</td>\n",
       "    </tr>\n",
       "  </tbody>\n",
       "</table>\n",
       "</div>"
      ],
      "text/plain": [
       "    Asia  Europe  North America  South America  Africa  Oceania\n",
       "1  16861    3732           3292            852     551      192"
      ]
     },
     "execution_count": 44,
     "metadata": {},
     "output_type": "execute_result"
    }
   ],
   "source": [
    "#ValueError: If using all scalar values, you must pass an index\n",
    "\n",
    "continent_values=dict((visa_df['continent'].value_counts()))\n",
    "pd.DataFrame(continent_values,index=[1])\n",
    "\n",
    "#in the dictionary if values in the form of list: then no need to provide index\n",
    "# in the dict if values are as single (scalar) then provide index"
   ]
  },
  {
   "cell_type": "code",
   "execution_count": 41,
   "id": "6a98ce6c",
   "metadata": {},
   "outputs": [
    {
     "data": {
      "text/html": [
       "<div>\n",
       "<style scoped>\n",
       "    .dataframe tbody tr th:only-of-type {\n",
       "        vertical-align: middle;\n",
       "    }\n",
       "\n",
       "    .dataframe tbody tr th {\n",
       "        vertical-align: top;\n",
       "    }\n",
       "\n",
       "    .dataframe thead th {\n",
       "        text-align: right;\n",
       "    }\n",
       "</style>\n",
       "<table border=\"1\" class=\"dataframe\">\n",
       "  <thead>\n",
       "    <tr style=\"text-align: right;\">\n",
       "      <th></th>\n",
       "      <th>Asia</th>\n",
       "      <th>Europe</th>\n",
       "      <th>North America</th>\n",
       "      <th>South America</th>\n",
       "      <th>Africa</th>\n",
       "      <th>Oceania</th>\n",
       "    </tr>\n",
       "  </thead>\n",
       "  <tbody>\n",
       "    <tr>\n",
       "      <th>count</th>\n",
       "      <td>16861</td>\n",
       "      <td>3732</td>\n",
       "      <td>3292</td>\n",
       "      <td>852</td>\n",
       "      <td>551</td>\n",
       "      <td>192</td>\n",
       "    </tr>\n",
       "  </tbody>\n",
       "</table>\n",
       "</div>"
      ],
      "text/plain": [
       "        Asia  Europe  North America  South America  Africa  Oceania\n",
       "count  16861    3732           3292            852     551      192"
      ]
     },
     "execution_count": 41,
     "metadata": {},
     "output_type": "execute_result"
    }
   ],
   "source": [
    "pd.DataFrame(continent_values,index=['count'])"
   ]
  },
  {
   "cell_type": "code",
   "execution_count": null,
   "id": "4e81f205",
   "metadata": {},
   "outputs": [],
   "source": [
    "Series==dict==list="
   ]
  },
  {
   "cell_type": "code",
   "execution_count": 45,
   "id": "cafa2373",
   "metadata": {},
   "outputs": [
    {
     "data": {
      "text/html": [
       "<div>\n",
       "<style scoped>\n",
       "    .dataframe tbody tr th:only-of-type {\n",
       "        vertical-align: middle;\n",
       "    }\n",
       "\n",
       "    .dataframe tbody tr th {\n",
       "        vertical-align: top;\n",
       "    }\n",
       "\n",
       "    .dataframe thead th {\n",
       "        text-align: right;\n",
       "    }\n",
       "</style>\n",
       "<table border=\"1\" class=\"dataframe\">\n",
       "  <thead>\n",
       "    <tr style=\"text-align: right;\">\n",
       "      <th></th>\n",
       "      <th>Continent</th>\n",
       "      <th>Count</th>\n",
       "    </tr>\n",
       "  </thead>\n",
       "  <tbody>\n",
       "    <tr>\n",
       "      <th>0</th>\n",
       "      <td>Asia</td>\n",
       "      <td>16861</td>\n",
       "    </tr>\n",
       "    <tr>\n",
       "      <th>1</th>\n",
       "      <td>Europe</td>\n",
       "      <td>3732</td>\n",
       "    </tr>\n",
       "    <tr>\n",
       "      <th>2</th>\n",
       "      <td>North America</td>\n",
       "      <td>3292</td>\n",
       "    </tr>\n",
       "    <tr>\n",
       "      <th>3</th>\n",
       "      <td>South America</td>\n",
       "      <td>852</td>\n",
       "    </tr>\n",
       "    <tr>\n",
       "      <th>4</th>\n",
       "      <td>Africa</td>\n",
       "      <td>551</td>\n",
       "    </tr>\n",
       "    <tr>\n",
       "      <th>5</th>\n",
       "      <td>Oceania</td>\n",
       "      <td>192</td>\n",
       "    </tr>\n",
       "  </tbody>\n",
       "</table>\n",
       "</div>"
      ],
      "text/plain": [
       "       Continent  Count\n",
       "0           Asia  16861\n",
       "1         Europe   3732\n",
       "2  North America   3292\n",
       "3  South America    852\n",
       "4         Africa    551\n",
       "5        Oceania    192"
      ]
     },
     "execution_count": 45,
     "metadata": {},
     "output_type": "execute_result"
    }
   ],
   "source": [
    "continent_df  #counts== frequency table=barchart"
   ]
  },
  {
   "cell_type": "markdown",
   "id": "e35abc07",
   "metadata": {},
   "source": [
    "**Bar-chart**"
   ]
  },
  {
   "cell_type": "code",
   "execution_count": null,
   "id": "129f44e6",
   "metadata": {},
   "outputs": [],
   "source": [
    "#Bar chart required one cat column, one numerical col\n",
    "# continent df output consider as a frequency table\n",
    "#in the we have one cat column: continent(x-axis)\n",
    "#count is a numerical column: (y-axis)"
   ]
  },
  {
   "cell_type": "code",
   "execution_count": 47,
   "id": "8777b410",
   "metadata": {},
   "outputs": [
    {
     "data": {
      "text/plain": [
       "<BarContainer object of 6 artists>"
      ]
     },
     "execution_count": 47,
     "metadata": {},
     "output_type": "execute_result"
    },
    {
     "data": {
      "image/png": "[encoded data removed]",
      "text/plain": [
       "<Figure size 640x480 with 1 Axes>"
      ]
     },
     "metadata": {},
     "output_type": "display_data"
    }
   ],
   "source": [
    "plt.bar('Continent','Count',data=continent_df)"
   ]
  },
  {
   "cell_type": "code",
   "execution_count": 53,
   "id": "64a84305",
   "metadata": {},
   "outputs": [
    {
     "data": {
      "image/png": "[encoded data removed]",
      "text/plain": [
       "<Figure size 1000x500 with 1 Axes>"
      ]
     },
     "metadata": {},
     "output_type": "display_data"
    }
   ],
   "source": [
    "plt.figure(figsize=(10,5)) # sinec the names were mearging, we are giving dimension # to increase the size\n",
    "plt.bar('Continent','Count',data=continent_df)\n",
    "plt.xlabel(\"Contienents\")\n",
    "plt.ylabel('Count')\n",
    "plt.title(\"Bar chart\")\n",
    "plt.savefig(\"Continent_bar_chart.jpg\")\n",
    "plt.show() #to avoid the writeups #it is at last always"
   ]
  },
  {
   "cell_type": "markdown",
   "id": "4c5b9f19",
   "metadata": {},
   "source": [
    "- We read Categorical column\n",
    "\n",
    "- Unique\n",
    "\n",
    "- nunique\n",
    "\n",
    "- value counts (frequency table)\n",
    "\n",
    "- from the value counts we created a dataframe(frequency table)\n",
    "\n",
    "- Bar chart"
   ]
  },
  {
   "cell_type": "markdown",
   "id": "a497de06",
   "metadata": {},
   "source": [
    "**Bar chart require two things**\n",
    "    \n",
    "    - under Matplotlib\n",
    "\n",
    "    - X-axis (categorical column)\n",
    "    \n",
    "    - Y-axis (numerical column)\n",
    "    \n",
    "**Count plot**\n",
    "\n",
    "    - under seaborn package\n",
    "    \n",
    "    - It requires directly column name from original dataframe"
   ]
  },
  {
   "cell_type": "code",
   "execution_count": 2,
   "id": "d7a9d35a",
   "metadata": {},
   "outputs": [
    {
     "data": {
      "text/plain": [
       "Index(['case_id', 'continent', 'education_of_employee', 'has_job_experience',\n",
       "       'requires_job_training', 'no_of_employees', 'yr_of_estab',\n",
       "       'region_of_employment', 'prevailing_wage', 'unit_of_wage',\n",
       "       'full_time_position', 'case_status'],\n",
       "      dtype='object')"
      ]
     },
     "execution_count": 2,
     "metadata": {},
     "output_type": "execute_result"
    }
   ],
   "source": [
    "visa_df.columns"
   ]
  },
  {
   "cell_type": "code",
   "execution_count": 5,
   "id": "aec91016",
   "metadata": {},
   "outputs": [
    {
     "data": {
      "image/png": "[encoded data removed]",
      "text/plain": [
       "<Figure size 640x480 with 1 Axes>"
      ]
     },
     "metadata": {},
     "output_type": "display_data"
    }
   ],
   "source": [
    "sns.countplot(data=visa_df, x='continent')\n",
    "plt.title('Bar chart') #we can include sns & plt \n",
    "plt.show() #remove the writeup"
   ]
  },
  {
   "cell_type": "code",
   "execution_count": null,
   "id": "e010c1e4",
   "metadata": {},
   "outputs": [],
   "source": [
    "-plotly, bokeh, powerbi are packages/tools give plots\n",
    "\n",
    "-focus on the methods"
   ]
  },
  {
   "cell_type": "code",
   "execution_count": 7,
   "id": "ca4a604d",
   "metadata": {},
   "outputs": [
    {
     "data": {
      "image/png": "[encoded data removed]",
      "text/plain": [
       "<Figure size 640x480 with 1 Axes>"
      ]
     },
     "metadata": {},
     "output_type": "display_data"
    }
   ],
   "source": [
    "order_labels=['Oceania','North America', 'South America', 'Africa','Asia']\n",
    "sns.countplot(data=visa_df, x='continent',order=order_labels)\n",
    "plt.title('Bar chart') #we can include sns & plt \n",
    "plt.show() #remove the writeup"
   ]
  },
  {
   "cell_type": "code",
   "execution_count": 8,
   "id": "e7e15608",
   "metadata": {},
   "outputs": [
    {
     "data": {
      "text/plain": [
       "continent\n",
       "Asia             16861\n",
       "Europe            3732\n",
       "North America     3292\n",
       "South America      852\n",
       "Africa             551\n",
       "Oceania            192\n",
       "Name: count, dtype: int64"
      ]
     },
     "execution_count": 8,
     "metadata": {},
     "output_type": "execute_result"
    }
   ],
   "source": [
    "# it should take order autometically\n",
    "\n",
    "visa_df['continent'].value_counts()\n",
    "\n",
    "# In series \n",
    "# we have left side: keys\n",
    "# we have right sides: values"
   ]
  },
  {
   "cell_type": "code",
   "execution_count": 9,
   "id": "2c3a3c5b",
   "metadata": {},
   "outputs": [
    {
     "data": {
      "text/plain": [
       "Index(['Asia', 'Europe', 'North America', 'South America', 'Africa',\n",
       "       'Oceania'],\n",
       "      dtype='object', name='continent')"
      ]
     },
     "execution_count": 9,
     "metadata": {},
     "output_type": "execute_result"
    }
   ],
   "source": [
    "visa_df['continent'].value_counts().keys() # to get keys & it is in order"
   ]
  },
  {
   "cell_type": "code",
   "execution_count": 10,
   "id": "7018aeee",
   "metadata": {},
   "outputs": [
    {
     "data": {
      "text/plain": [
       "[16861, 3732, 3292, 852, 551, 192]"
      ]
     },
     "execution_count": 10,
     "metadata": {},
     "output_type": "execute_result"
    }
   ],
   "source": [
    "visa_df['continent'].value_counts().to_list() #to get values"
   ]
  },
  {
   "cell_type": "code",
   "execution_count": 18,
   "id": "438d0558",
   "metadata": {},
   "outputs": [
    {
     "data": {
      "image/png": "[encoded data removed]",
      "text/plain": [
       "<Figure size 640x480 with 1 Axes>"
      ]
     },
     "metadata": {},
     "output_type": "display_data"
    },
    {
     "data": {
      "text/plain": [
       "<Figure size 1000x500 with 0 Axes>"
      ]
     },
     "metadata": {},
     "output_type": "display_data"
    }
   ],
   "source": [
    "visa_df['continent'].value_counts()\n",
    "keys=visa_df['continent'].value_counts().keys()\n",
    "values=visa_df['continent'].value_counts().to_list()\n",
    "sns.countplot(data=visa_df, x='continent',order=keys)\n",
    "plt.title('Bar chart') \n",
    "plt.figure(figsize=(10,5))\n",
    "plt.show() "
   ]
  },
  {
   "cell_type": "code",
   "execution_count": null,
   "id": "188ebc85",
   "metadata": {},
   "outputs": [],
   "source": [
    "index\n",
    "array\n",
    "tuple\n",
    "list\n",
    "#all are same if we are not able to get it directly we can convert into list\n",
    "#in this case it is working dierctly"
   ]
  },
  {
   "cell_type": "code",
   "execution_count": 22,
   "id": "4a37e6fe",
   "metadata": {},
   "outputs": [
    {
     "data": {
      "image/png": "[encoded data removed]",
      "text/plain": [
       "<Figure size 640x480 with 1 Axes>"
      ]
     },
     "metadata": {},
     "output_type": "display_data"
    }
   ],
   "source": [
    "values=visa_df['continent'].value_counts()\n",
    "ax=values.plot(kind='bar') #we can directly draw from value counts\n",
    "ax.bar_label(ax.containers[0]) #it will give numbers\n",
    "plt.show()"
   ]
  },
  {
   "cell_type": "code",
   "execution_count": 23,
   "id": "a40db7db",
   "metadata": {},
   "outputs": [
    {
     "ename": "NameError",
     "evalue": "name 'continent_df' is not defined",
     "output_type": "error",
     "traceback": [
      "\u001b[0;31m---------------------------------------------------------------------------\u001b[0m",
      "\u001b[0;31mNameError\u001b[0m                                 Traceback (most recent call last)",
      "Cell \u001b[0;32mIn[23], line 4\u001b[0m\n\u001b[1;32m      1\u001b[0m \u001b[38;5;66;03m#Method-1\u001b[39;00m\n\u001b[1;32m      2\u001b[0m \u001b[38;5;66;03m################################ Matplotlib Bar plot #########\u001b[39;00m\n\u001b[1;32m      3\u001b[0m plt\u001b[38;5;241m.\u001b[39mfigure(figsize\u001b[38;5;241m=\u001b[39m(\u001b[38;5;241m10\u001b[39m,\u001b[38;5;241m5\u001b[39m)) \u001b[38;5;66;03m# sinec the names were mearging, we are giving dimension # to increase the size\u001b[39;00m\n\u001b[0;32m----> 4\u001b[0m plt\u001b[38;5;241m.\u001b[39mbar(\u001b[38;5;124m'\u001b[39m\u001b[38;5;124mContinent\u001b[39m\u001b[38;5;124m'\u001b[39m,\u001b[38;5;124m'\u001b[39m\u001b[38;5;124mCount\u001b[39m\u001b[38;5;124m'\u001b[39m,data\u001b[38;5;241m=\u001b[39mcontinent_df)\n\u001b[1;32m      5\u001b[0m plt\u001b[38;5;241m.\u001b[39mxlabel(\u001b[38;5;124m\"\u001b[39m\u001b[38;5;124mContienents\u001b[39m\u001b[38;5;124m\"\u001b[39m)\n\u001b[1;32m      6\u001b[0m plt\u001b[38;5;241m.\u001b[39mylabel(\u001b[38;5;124m'\u001b[39m\u001b[38;5;124mCount\u001b[39m\u001b[38;5;124m'\u001b[39m)\n",
      "\u001b[0;31mNameError\u001b[0m: name 'continent_df' is not defined"
     ]
    },
    {
     "data": {
      "text/plain": [
       "<Figure size 1000x500 with 0 Axes>"
      ]
     },
     "metadata": {},
     "output_type": "display_data"
    }
   ],
   "source": [
    "#Method-1\n",
    "################################ Matplotlib Bar plot #########\n",
    "plt.figure(figsize=(10,5)) # sinec the names were mearging, we are giving dimension # to increase the size\n",
    "plt.bar('Continent','Count',data=continent_df)\n",
    "plt.xlabel(\"Contienents\")\n",
    "plt.ylabel('Count')\n",
    "plt.title(\"Bar chart\")\n",
    "plt.savefig(\"Continent_bar_chart.jpg\")\n",
    "plt.show() #to avoid the writeups #it is at last always\n",
    "\n",
    "\n",
    "#Method-2\n",
    "##################### Seaborn count plot #################\n",
    "visa_df['continent'].value_counts()\n",
    "keys=visa_df['continent'].value_counts().keys()\n",
    "values=visa_df['continent'].value_counts().to_list()\n",
    "sns.countplot(data=visa_df, x='continent',order=keys)\n",
    "plt.title('Bar chart') \n",
    "plt.figure(figsize=(10,5))\n",
    "plt.show() \n",
    "\n",
    "#Method-3\n",
    "##################### value counts plot ###################\n",
    "values=visa_df['continent'].value_counts()\n",
    "ax=values.plot(kind='bar') #we can directly draw from value counts\n",
    "ax.bar_label(ax.containers[0]) #it will give number\n",
    "plt.show()"
   ]
  },
  {
   "cell_type": "markdown",
   "id": "e4f3dee9",
   "metadata": {},
   "source": [
    "**Pie Chart**"
   ]
  },
  {
   "cell_type": "code",
   "execution_count": 26,
   "id": "99fc92ea",
   "metadata": {},
   "outputs": [
    {
     "data": {
      "text/plain": [
       "continent\n",
       "Asia             0.661735\n",
       "Europe           0.146468\n",
       "North America    0.129199\n",
       "South America    0.033438\n",
       "Africa           0.021625\n",
       "Oceania          0.007535\n",
       "Name: proportion, dtype: float64"
      ]
     },
     "execution_count": 26,
     "metadata": {},
     "output_type": "execute_result"
    }
   ],
   "source": [
    "values=visa_df['continent'].value_counts(normalize=True)\n",
    "values"
   ]
  },
  {
   "cell_type": "code",
   "execution_count": 28,
   "id": "13f65618",
   "metadata": {},
   "outputs": [
    {
     "data": {
      "text/plain": [
       "([<matplotlib.patches.Wedge at 0x1721ff510>,\n",
       "  <matplotlib.patches.Wedge at 0x172202810>,\n",
       "  <matplotlib.patches.Wedge at 0x172201350>,\n",
       "  <matplotlib.patches.Wedge at 0x172203290>,\n",
       "  <matplotlib.patches.Wedge at 0x1722387d0>,\n",
       "  <matplotlib.patches.Wedge at 0x172239b10>],\n",
       " [Text(-0.535174336231636, 0.9610350825224997, 'Asia'),\n",
       "  Text(-0.10373513115748138, -1.0950977228374372, 'Europe'),\n",
       "  Text(0.7670026411947619, -0.7884839557024985, 'North America'),\n",
       "  Text(1.0546117976794491, -0.31272025229479616, 'South America'),\n",
       "  Text(1.0926986108246142, -0.12652962460213996, 'Africa'),\n",
       "  Text(1.0996917916121562, -0.026037731484255974, 'Oceania')])"
      ]
     },
     "execution_count": 28,
     "metadata": {},
     "output_type": "execute_result"
    },
    {
     "data": {
      "image/png": "[encoded data removed]",
      "text/plain": [
       "<Figure size 640x480 with 1 Axes>"
      ]
     },
     "metadata": {},
     "output_type": "display_data"
    }
   ],
   "source": [
    "#x= values\n",
    "#lables=keys\n",
    "\n",
    "keys=visa_df['continent'].value_counts().keys()\n",
    "values=visa_df['continent'].value_counts().to_list()\n",
    "plt.pie(x=values,labels=keys)"
   ]
  },
  {
   "cell_type": "code",
   "execution_count": 36,
   "id": "095b5954",
   "metadata": {},
   "outputs": [
    {
     "data": {
      "text/plain": [
       "([<matplotlib.patches.Wedge at 0x17246fd50>,\n",
       "  <matplotlib.patches.Wedge at 0x17246c910>,\n",
       "  <matplotlib.patches.Wedge at 0x172483f90>,\n",
       "  <matplotlib.patches.Wedge at 0x17248e810>,\n",
       "  <matplotlib.patches.Wedge at 0x172494d90>,\n",
       "  <matplotlib.patches.Wedge at 0x172497690>],\n",
       " [Text(1.1190008848479671, -2.009436990728863, 'Asia'),\n",
       "  Text(0.216900728783825, 2.2897497841146413, 'Europe'),\n",
       "  Text(-1.603732795225411, 1.648648271014315, 'North America'),\n",
       "  Text(-2.205097395147939, 0.6538696184345743, 'South America'),\n",
       "  Text(-2.2847334589969206, 0.26456194234992925, 'Africa'),\n",
       "  Text(-2.299355564279963, 0.054442529467080954, 'Oceania')],\n",
       " [Text(0.6324787610010247, -1.1357687338902267, '66.173%'),\n",
       "  Text(0.12259606409520543, 1.294206399716971, '14.647%'),\n",
       "  Text(-0.9064576668665365, 0.9318446749211345, '12.920%'),\n",
       "  Text(-1.2463593972575306, 0.3695784799847593, '3.344%'),\n",
       "  Text(-1.2913710855199985, 0.14953501089343824, '2.162%'),\n",
       "  Text(-1.2996357537234573, 0.030771864481393577, '0.754%')])"
      ]
     },
     "execution_count": 36,
     "metadata": {},
     "output_type": "execute_result"
    },
    {
     "data": {
      "image/png": "[encoded data removed]",
      "text/plain": [
       "<Figure size 640x480 with 1 Axes>"
      ]
     },
     "metadata": {},
     "output_type": "display_data"
    }
   ],
   "source": [
    "keys=visa_df['continent'].value_counts().keys()\n",
    "values=visa_df['continent'].value_counts().to_list()\n",
    "plt.pie(x=values,labels=keys, \n",
    "        autopct=\"%0.3f%%\",\n",
    "       explode=[0.1,0.1,0.1,0.1,0.1,0.1],\n",
    "       shadow=True,\n",
    "       startangle=180,\n",
    "       radius=2) #3 digits  percentage #bomb"
   ]
  },
  {
   "cell_type": "code",
   "execution_count": null,
   "id": "7acf22cf",
   "metadata": {},
   "outputs": [],
   "source": []
  }
 ],
 "metadata": {
  "kernelspec": {
   "display_name": "Python 3 (ipykernel)",
   "language": "python",
   "name": "python3"
  },
  "language_info": {
   "codemirror_mode": {
    "name": "ipython",
    "version": 3
   },
   "file_extension": ".py",
   "mimetype": "text/x-python",
   "name": "python",
   "nbconvert_exporter": "python",
   "pygments_lexer": "ipython3",
   "version": "3.11.5"
  }
 },
 "nbformat": 4,
 "nbformat_minor": 5
}
